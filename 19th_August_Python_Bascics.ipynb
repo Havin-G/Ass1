{
 "cells": [
  {
   "cell_type": "code",
   "execution_count": 15,
   "id": "71897376-48ed-465c-9734-81015cef8827",
   "metadata": {},
   "outputs": [],
   "source": [
    "x=10"
   ]
  },
  {
   "cell_type": "code",
   "execution_count": 16,
   "id": "ff22b29d-a049-430c-8b4d-fbd104da3e04",
   "metadata": {},
   "outputs": [],
   "source": [
    "y=20"
   ]
  },
  {
   "cell_type": "code",
   "execution_count": 17,
   "id": "c51d585d-1be7-4f4e-b397-ae171bfe38fb",
   "metadata": {},
   "outputs": [],
   "source": [
    "x=x+y"
   ]
  },
  {
   "cell_type": "code",
   "execution_count": 18,
   "id": "60eb9f20-23a0-47b8-afc1-949661589e71",
   "metadata": {},
   "outputs": [
    {
     "data": {
      "text/plain": [
       "30"
      ]
     },
     "execution_count": 18,
     "metadata": {},
     "output_type": "execute_result"
    }
   ],
   "source": [
    "x"
   ]
  },
  {
   "cell_type": "code",
   "execution_count": 21,
   "id": "a65f543a-3b6f-4b0c-bf8c-c73adb713ab7",
   "metadata": {},
   "outputs": [],
   "source": [
    "y=x-20"
   ]
  },
  {
   "cell_type": "code",
   "execution_count": 23,
   "id": "e3be0a51-4baf-4274-aaaa-156eb57d664f",
   "metadata": {},
   "outputs": [
    {
     "data": {
      "text/plain": [
       "10"
      ]
     },
     "execution_count": 23,
     "metadata": {},
     "output_type": "execute_result"
    }
   ],
   "source": [
    "y"
   ]
  },
  {
   "cell_type": "code",
   "execution_count": 24,
   "id": "eafd44ec-b91c-462f-9de3-8cb0c98d7dd4",
   "metadata": {},
   "outputs": [],
   "source": [
    "x=x-10"
   ]
  },
  {
   "cell_type": "code",
   "execution_count": 25,
   "id": "373eb596-e77e-48b3-8e06-659826b6bf45",
   "metadata": {},
   "outputs": [
    {
     "data": {
      "text/plain": [
       "20"
      ]
     },
     "execution_count": 25,
     "metadata": {},
     "output_type": "execute_result"
    }
   ],
   "source": [
    "x"
   ]
  },
  {
   "cell_type": "code",
   "execution_count": null,
   "id": "11d6a02f-a08d-4ca0-8836-0867bf2685b1",
   "metadata": {},
   "outputs": [],
   "source": []
  },
  {
   "cell_type": "code",
   "execution_count": 28,
   "id": "a65d567d-0bb1-4952-bf73-ab0f8906cc87",
   "metadata": {},
   "outputs": [
    {
     "name": "stdin",
     "output_type": "stream",
     "text": [
      " 20\n"
     ]
    }
   ],
   "source": [
    "l=int (input())\n"
   ]
  },
  {
   "cell_type": "code",
   "execution_count": 29,
   "id": "f3f92b67-0414-43cd-b10a-0b44431e710e",
   "metadata": {},
   "outputs": [
    {
     "name": "stdin",
     "output_type": "stream",
     "text": [
      " 10\n"
     ]
    }
   ],
   "source": [
    "b=int (input())"
   ]
  },
  {
   "cell_type": "code",
   "execution_count": 31,
   "id": "e18c8f49-e72e-46fa-ba31-9063759cfc65",
   "metadata": {},
   "outputs": [],
   "source": [
    "a=l*b"
   ]
  },
  {
   "cell_type": "code",
   "execution_count": 32,
   "id": "ba035b26-5458-4c13-8443-106666470d35",
   "metadata": {},
   "outputs": [
    {
     "data": {
      "text/plain": [
       "200"
      ]
     },
     "execution_count": 32,
     "metadata": {},
     "output_type": "execute_result"
    }
   ],
   "source": [
    "a"
   ]
  },
  {
   "cell_type": "code",
   "execution_count": null,
   "id": "1abbfece-edc6-4be9-a05e-b0182eba36cb",
   "metadata": {},
   "outputs": [],
   "source": []
  },
  {
   "cell_type": "code",
   "execution_count": 1,
   "id": "73d78ae8-f900-4613-b8c4-3844d90844c9",
   "metadata": {},
   "outputs": [
    {
     "name": "stdin",
     "output_type": "stream",
     "text": [
      " 20\n"
     ]
    }
   ],
   "source": [
    "c=int(input())"
   ]
  },
  {
   "cell_type": "code",
   "execution_count": 2,
   "id": "1f1fb80c-719e-419b-a506-f7541b608e2e",
   "metadata": {},
   "outputs": [],
   "source": [
    "f=(c*1.8)+32"
   ]
  },
  {
   "cell_type": "code",
   "execution_count": 3,
   "id": "c4c92e57-5cfa-4bb5-ae39-b592fb67fb43",
   "metadata": {},
   "outputs": [
    {
     "data": {
      "text/plain": [
       "68.0"
      ]
     },
     "execution_count": 3,
     "metadata": {},
     "output_type": "execute_result"
    }
   ],
   "source": [
    "f"
   ]
  },
  {
   "cell_type": "code",
   "execution_count": null,
   "id": "ded88a38-168d-456c-92ac-0e6064049618",
   "metadata": {},
   "outputs": [],
   "source": []
  },
  {
   "cell_type": "code",
   "execution_count": 4,
   "id": "26b4f7f5-c0d7-4375-803d-0e4206222e3a",
   "metadata": {},
   "outputs": [
    {
     "name": "stdin",
     "output_type": "stream",
     "text": [
      " havin\n"
     ]
    }
   ],
   "source": [
    "a=str(input())"
   ]
  },
  {
   "cell_type": "code",
   "execution_count": 5,
   "id": "499fd6a5-4235-4ded-900e-3a4c04e65ab8",
   "metadata": {},
   "outputs": [
    {
     "data": {
      "text/plain": [
       "5"
      ]
     },
     "execution_count": 5,
     "metadata": {},
     "output_type": "execute_result"
    }
   ],
   "source": [
    "len(a)"
   ]
  },
  {
   "cell_type": "code",
   "execution_count": null,
   "id": "e59dafc6-349a-488a-b0d7-3ce253823f36",
   "metadata": {},
   "outputs": [],
   "source": []
  },
  {
   "cell_type": "code",
   "execution_count": 23,
   "id": "8d4af143-00ea-4a03-8d80-9b5d3b8ff0f9",
   "metadata": {},
   "outputs": [
    {
     "name": "stdin",
     "output_type": "stream",
     "text": [
      " aaaghgeeehgiiighgooohguuu\n"
     ]
    }
   ],
   "source": [
    "b=str(input())"
   ]
  },
  {
   "cell_type": "code",
   "execution_count": 24,
   "id": "e099b950-dab0-40dc-bb1a-66eca25d69b2",
   "metadata": {},
   "outputs": [
    {
     "data": {
      "text/plain": [
       "3"
      ]
     },
     "execution_count": 24,
     "metadata": {},
     "output_type": "execute_result"
    }
   ],
   "source": [
    "b.count('a')\n"
   ]
  },
  {
   "cell_type": "code",
   "execution_count": 25,
   "id": "45b3ea78-aa9f-4391-a963-632828ad136d",
   "metadata": {},
   "outputs": [
    {
     "data": {
      "text/plain": [
       "3"
      ]
     },
     "execution_count": 25,
     "metadata": {},
     "output_type": "execute_result"
    }
   ],
   "source": [
    "b.count('e')"
   ]
  },
  {
   "cell_type": "code",
   "execution_count": 26,
   "id": "6cb21798-1fca-4006-a683-e52b6abcb144",
   "metadata": {},
   "outputs": [
    {
     "data": {
      "text/plain": [
       "3"
      ]
     },
     "execution_count": 26,
     "metadata": {},
     "output_type": "execute_result"
    }
   ],
   "source": [
    "b.count('i')\n"
   ]
  },
  {
   "cell_type": "code",
   "execution_count": 27,
   "id": "854aa84e-3104-4fb0-aa6c-bed247c4dfbf",
   "metadata": {},
   "outputs": [
    {
     "data": {
      "text/plain": [
       "3"
      ]
     },
     "execution_count": 27,
     "metadata": {},
     "output_type": "execute_result"
    }
   ],
   "source": [
    "b.count('o')"
   ]
  },
  {
   "cell_type": "code",
   "execution_count": 28,
   "id": "dc872998-57e1-490f-9491-3b843c06b297",
   "metadata": {},
   "outputs": [
    {
     "data": {
      "text/plain": [
       "3"
      ]
     },
     "execution_count": 28,
     "metadata": {},
     "output_type": "execute_result"
    }
   ],
   "source": [
    "b.count('u')\n"
   ]
  },
  {
   "cell_type": "code",
   "execution_count": null,
   "id": "390ee834-bab1-4ee9-9a45-d83a4768ad9a",
   "metadata": {},
   "outputs": [],
   "source": []
  },
  {
   "cell_type": "code",
   "execution_count": 29,
   "id": "8a0410f0-2260-4f2b-9687-006a81681124",
   "metadata": {},
   "outputs": [],
   "source": [
    "s1='havin'"
   ]
  },
  {
   "cell_type": "code",
   "execution_count": 32,
   "id": "bcede0bf-1d19-4b13-b4d0-d02c086a4bcd",
   "metadata": {},
   "outputs": [
    {
     "data": {
      "text/plain": [
       "'nivah'"
      ]
     },
     "execution_count": 32,
     "metadata": {},
     "output_type": "execute_result"
    }
   ],
   "source": [
    "s1[::-1]"
   ]
  },
  {
   "cell_type": "code",
   "execution_count": null,
   "id": "e6b549ad-6975-4d30-96f0-21bb4278c55c",
   "metadata": {},
   "outputs": [],
   "source": []
  },
  {
   "cell_type": "code",
   "execution_count": 1,
   "id": "c43ab211-fc72-462d-bd05-edb2d80698c0",
   "metadata": {},
   "outputs": [
    {
     "name": "stdin",
     "output_type": "stream",
     "text": [
      " radar\n"
     ]
    }
   ],
   "source": [
    "s1=str(input())"
   ]
  },
  {
   "cell_type": "code",
   "execution_count": 2,
   "id": "20cdf490-cb43-4295-95b7-a5d7d8c3b85f",
   "metadata": {},
   "outputs": [],
   "source": [
    "s2=s1[::-1]"
   ]
  },
  {
   "cell_type": "code",
   "execution_count": 3,
   "id": "65cb2481-7e5f-4d96-8afe-b14b04860571",
   "metadata": {},
   "outputs": [
    {
     "data": {
      "text/plain": [
       "'radar'"
      ]
     },
     "execution_count": 3,
     "metadata": {},
     "output_type": "execute_result"
    }
   ],
   "source": [
    "s2"
   ]
  },
  {
   "cell_type": "code",
   "execution_count": 4,
   "id": "5ae38ea6-9754-4ad8-b8be-91d57d19bd74",
   "metadata": {},
   "outputs": [
    {
     "name": "stdout",
     "output_type": "stream",
     "text": [
      "True\n"
     ]
    }
   ],
   "source": [
    "print(s1==s2)"
   ]
  },
  {
   "cell_type": "code",
   "execution_count": null,
   "id": "398baf0a-7328-49fc-a172-36d84818a3df",
   "metadata": {},
   "outputs": [],
   "source": []
  },
  {
   "cell_type": "code",
   "execution_count": 5,
   "id": "d1ed984f-52cc-40c2-a3d1-dd838fd19374",
   "metadata": {},
   "outputs": [
    {
     "name": "stdin",
     "output_type": "stream",
     "text": [
      " my name is havin\n"
     ]
    }
   ],
   "source": [
    "s1=str(input())"
   ]
  },
  {
   "cell_type": "code",
   "execution_count": 10,
   "id": "9508aa99-930c-41d1-bfcb-2929b1e09b92",
   "metadata": {},
   "outputs": [
    {
     "data": {
      "text/plain": [
       "'mynameishavin'"
      ]
     },
     "execution_count": 10,
     "metadata": {},
     "output_type": "execute_result"
    }
   ],
   "source": [
    "s1.replace(' ','')"
   ]
  },
  {
   "cell_type": "code",
   "execution_count": null,
   "id": "d8360f4e-0304-4b64-bb2b-d1399197b234",
   "metadata": {},
   "outputs": [],
   "source": []
  }
 ],
 "metadata": {
  "kernelspec": {
   "display_name": "Python 3 (ipykernel)",
   "language": "python",
   "name": "python3"
  },
  "language_info": {
   "codemirror_mode": {
    "name": "ipython",
    "version": 3
   },
   "file_extension": ".py",
   "mimetype": "text/x-python",
   "name": "python",
   "nbconvert_exporter": "python",
   "pygments_lexer": "ipython3",
   "version": "3.10.8"
  }
 },
 "nbformat": 4,
 "nbformat_minor": 5
}
