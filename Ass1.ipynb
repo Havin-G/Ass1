{
 "cells": [
  {
   "cell_type": "code",
   "execution_count": 15,
   "id": "71897376-48ed-465c-9734-81015cef8827",
   "metadata": {},
   "outputs": [],
   "source": [
    "x=10"
   ]
  },
  {
   "cell_type": "code",
   "execution_count": 16,
   "id": "ff22b29d-a049-430c-8b4d-fbd104da3e04",
   "metadata": {},
   "outputs": [],
   "source": [
    "y=20"
   ]
  },
  {
   "cell_type": "code",
   "execution_count": 17,
   "id": "c51d585d-1be7-4f4e-b397-ae171bfe38fb",
   "metadata": {},
   "outputs": [],
   "source": [
    "x=x+y"
   ]
  },
  {
   "cell_type": "code",
   "execution_count": 18,
   "id": "60eb9f20-23a0-47b8-afc1-949661589e71",
   "metadata": {},
   "outputs": [
    {
     "data": {
      "text/plain": [
       "30"
      ]
     },
     "execution_count": 18,
     "metadata": {},
     "output_type": "execute_result"
    }
   ],
   "source": [
    "x"
   ]
  },
  {
   "cell_type": "code",
   "execution_count": 21,
   "id": "a65f543a-3b6f-4b0c-bf8c-c73adb713ab7",
   "metadata": {},
   "outputs": [],
   "source": [
    "y=x-20"
   ]
  },
  {
   "cell_type": "code",
   "execution_count": 23,
   "id": "e3be0a51-4baf-4274-aaaa-156eb57d664f",
   "metadata": {},
   "outputs": [
    {
     "data": {
      "text/plain": [
       "10"
      ]
     },
     "execution_count": 23,
     "metadata": {},
     "output_type": "execute_result"
    }
   ],
   "source": [
    "y"
   ]
  },
  {
   "cell_type": "code",
   "execution_count": 24,
   "id": "eafd44ec-b91c-462f-9de3-8cb0c98d7dd4",
   "metadata": {},
   "outputs": [],
   "source": [
    "x=x-10"
   ]
  },
  {
   "cell_type": "code",
   "execution_count": 25,
   "id": "373eb596-e77e-48b3-8e06-659826b6bf45",
   "metadata": {},
   "outputs": [
    {
     "data": {
      "text/plain": [
       "20"
      ]
     },
     "execution_count": 25,
     "metadata": {},
     "output_type": "execute_result"
    }
   ],
   "source": [
    "x"
   ]
  },
  {
   "cell_type": "code",
   "execution_count": null,
   "id": "11d6a02f-a08d-4ca0-8836-0867bf2685b1",
   "metadata": {},
   "outputs": [],
   "source": []
  },
  {
   "cell_type": "code",
   "execution_count": 28,
   "id": "a65d567d-0bb1-4952-bf73-ab0f8906cc87",
   "metadata": {},
   "outputs": [
    {
     "name": "stdin",
     "output_type": "stream",
     "text": [
      " 20\n"
     ]
    }
   ],
   "source": [
    "l=int (input())\n"
   ]
  },
  {
   "cell_type": "code",
   "execution_count": 29,
   "id": "f3f92b67-0414-43cd-b10a-0b44431e710e",
   "metadata": {},
   "outputs": [
    {
     "name": "stdin",
     "output_type": "stream",
     "text": [
      " 10\n"
     ]
    }
   ],
   "source": [
    "b=int (input())"
   ]
  },
  {
   "cell_type": "code",
   "execution_count": 31,
   "id": "e18c8f49-e72e-46fa-ba31-9063759cfc65",
   "metadata": {},
   "outputs": [],
   "source": [
    "a=l*b"
   ]
  },
  {
   "cell_type": "code",
   "execution_count": 32,
   "id": "ba035b26-5458-4c13-8443-106666470d35",
   "metadata": {},
   "outputs": [
    {
     "data": {
      "text/plain": [
       "200"
      ]
     },
     "execution_count": 32,
     "metadata": {},
     "output_type": "execute_result"
    }
   ],
   "source": [
    "a"
   ]
  },
  {
   "cell_type": "code",
   "execution_count": null,
   "id": "1abbfece-edc6-4be9-a05e-b0182eba36cb",
   "metadata": {},
   "outputs": [],
   "source": []
  },
  {
   "cell_type": "code",
   "execution_count": 1,
   "id": "73d78ae8-f900-4613-b8c4-3844d90844c9",
   "metadata": {},
   "outputs": [
    {
     "name": "stdin",
     "output_type": "stream",
     "text": [
      " 20\n"
     ]
    }
   ],
   "source": [
    "c=int(input())"
   ]
  },
  {
   "cell_type": "code",
   "execution_count": 2,
   "id": "1f1fb80c-719e-419b-a506-f7541b608e2e",
   "metadata": {},
   "outputs": [],
   "source": [
    "f=(c*1.8)+32"
   ]
  },
  {
   "cell_type": "code",
   "execution_count": 3,
   "id": "c4c92e57-5cfa-4bb5-ae39-b592fb67fb43",
   "metadata": {},
   "outputs": [
    {
     "data": {
      "text/plain": [
       "68.0"
      ]
     },
     "execution_count": 3,
     "metadata": {},
     "output_type": "execute_result"
    }
   ],
   "source": [
    "f"
   ]
  },
  {
   "cell_type": "code",
   "execution_count": null,
   "id": "ded88a38-168d-456c-92ac-0e6064049618",
   "metadata": {},
   "outputs": [],
   "source": []
  },
  {
   "cell_type": "code",
   "execution_count": null,
   "id": "26b4f7f5-c0d7-4375-803d-0e4206222e3a",
   "metadata": {},
   "outputs": [],
   "source": []
  }
 ],
 "metadata": {
  "kernelspec": {
   "display_name": "Python 3 (ipykernel)",
   "language": "python",
   "name": "python3"
  },
  "language_info": {
   "codemirror_mode": {
    "name": "ipython",
    "version": 3
   },
   "file_extension": ".py",
   "mimetype": "text/x-python",
   "name": "python",
   "nbconvert_exporter": "python",
   "pygments_lexer": "ipython3",
   "version": "3.10.8"
  }
 },
 "nbformat": 4,
 "nbformat_minor": 5
}
